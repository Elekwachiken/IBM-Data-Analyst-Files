get_ipython().getoutput("mamba install openpyxl==3.0.9 -y")


import numpy as np  # useful for many scientific computing in Python
import pandas as pd # primary data structure library


df_can = pd.read_excel(
    'https://cf-courses-data.s3.us.cloud-object-storage.appdomain.cloud/IBMDeveloperSkillsNetwork-DV0101EN-SkillsNetwork/Data%20Files/Canada.xlsx',
    sheet_name='Canada by Citizenship',
    skiprows=range(20),
    skipfooter=2)

print('Data read into a pandas dataframe!')


df_can.head()
# tip: You can specify the number of rows you'd like to see as follows: df_can.head(10) 


df_can.tail()


df_can.info(verbose=False)


df_can.columns


df_can.index


print(type(df_can.columns))
print(type(df_can.index))


df_can.columns.tolist()


df_can.index.tolist()


print(type(df_can.columns.tolist()))
print(type(df_can.index.tolist()))


# size of dataframe (rows, columns)
df_can.shape


# in pandas axis=0 represents rows (default) and axis=1 represents columns.
df_can.drop(['AREA','REG','DEV','Type','Coverage'], axis=1, inplace=True)
df_can.head(2)


df_can.rename(columns={'OdName':'Country', 'AreaName':'Continent', 'RegName':'Region'}, inplace=True)
df_can.columns


df_can['Total'] = df_can.sum(axis=1)
df_can['Total']


df_can.isnull().sum()


df_can.describe()


df_can.Country  # returns a series


df_can[['Country', 1980, 1981, 1982, 1983, 1984, 1985]] # returns a dataframe
# notice that 'Country' is string, and the years are integers. 
# for the sake of consistency, we will convert all column names to string later on.


df_can.set_index('Country', inplace=True)
# tip: The opposite of set is reset. So to reset the index, we can use df_can.reset_index()


df_can.head(3)


# optional: to remove the name of the index
df_can.index.name = None


# 1. the full row data (all columns)
df_can.loc['Japan']


# alternate methods
df_can.iloc[87]


df_can[df_can.index == 'Japan']


# 2. for year 2013
df_can.loc['Japan', 2013]


# alternate method
# year 2013 is the last column, with a positional index of 36
df_can.iloc[87, 36]


# 3. for years 1980 to 1985
df_can.loc['Japan', [1980, 1981, 1982, 1983, 1984, 1984]]


# Alternative Method
df_can.iloc[87, [3, 4, 5, 6, 7, 8]]


df_can.loc['Haiti']
df_can.loc['Haiti', 2000]
df_can.loc['Haiti', [1990, 1991, 1992, 1993, 1994, 1995]]


df_can.columns = list(map(str, df_can.columns))
# [print (type(x)) for x in df_can.columns.values] #<-- uncomment to check type of column headers


# useful for plotting later on
years = list(map(str, range(1980, 2014)))
years


years = list(map(str, range(1980, 2014)))

df_can.loc['Haiti', years]


# 1. create the condition boolean series
condition = df_can['Continent'] == 'Asia'
print(condition)


# 2. pass this condition into the dataFrame
df_can[condition]


# we can pass multiple criteria in the same line.
# let's filter for AreaNAme = Asia and RegName = Southern Asia

df_can[(df_can['Continent']=='Asia') & (df_can['Region']=='Southern Asia')]

# note: When using 'and' and 'or' operators, pandas requires we use '&' and '|' instead of 'and' and 'or'
# don't forget to enclose the two conditions in parentheses


df_can[(df_can['Continent'] == 'Africa') & (df_can['Region'] == 'Southern Africa')]


df_can.sort_values(by='Total', ascending=False, axis=0, inplace=True)
top_5 = df_can.head(5)
top_5


df_can.sort_values(by='2010', ascending=False, axis=0, inplace=True)
top3countries = df_can['2010'].head(3)
top3countries



